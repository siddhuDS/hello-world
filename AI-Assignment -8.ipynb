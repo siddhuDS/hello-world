{
  "cells": [
    {
      "metadata": {
        "trusted": true
      },
      "cell_type": "code",
      "source": "import numpy as np\nimport pandas as pd\nimport warnings\nwarnings.filterwarnings(\"ignore\")",
      "execution_count": 1,
      "outputs": []
    },
    {
      "metadata": {
        "trusted": true
      },
      "cell_type": "code",
      "source": "df=pd.read_csv(\"UCI_Credit_Card.csv\")\ndf.head()",
      "execution_count": 2,
      "outputs": [
        {
          "output_type": "execute_result",
          "execution_count": 2,
          "data": {
            "text/html": "<div>\n<style scoped>\n    .dataframe tbody tr th:only-of-type {\n        vertical-align: middle;\n    }\n\n    .dataframe tbody tr th {\n        vertical-align: top;\n    }\n\n    .dataframe thead th {\n        text-align: right;\n    }\n</style>\n<table border=\"1\" class=\"dataframe\">\n  <thead>\n    <tr style=\"text-align: right;\">\n      <th></th>\n      <th>ID</th>\n      <th>LIMIT_BAL</th>\n      <th>SEX</th>\n      <th>EDUCATION</th>\n      <th>MARRIAGE</th>\n      <th>AGE</th>\n      <th>PAY_0</th>\n      <th>PAY_2</th>\n      <th>PAY_3</th>\n      <th>PAY_4</th>\n      <th>...</th>\n      <th>BILL_AMT4</th>\n      <th>BILL_AMT5</th>\n      <th>BILL_AMT6</th>\n      <th>PAY_AMT1</th>\n      <th>PAY_AMT2</th>\n      <th>PAY_AMT3</th>\n      <th>PAY_AMT4</th>\n      <th>PAY_AMT5</th>\n      <th>PAY_AMT6</th>\n      <th>default.payment.next.month</th>\n    </tr>\n  </thead>\n  <tbody>\n    <tr>\n      <th>0</th>\n      <td>1</td>\n      <td>20000.0</td>\n      <td>2</td>\n      <td>2</td>\n      <td>1</td>\n      <td>24</td>\n      <td>2</td>\n      <td>2</td>\n      <td>-1</td>\n      <td>-1</td>\n      <td>...</td>\n      <td>0.0</td>\n      <td>0.0</td>\n      <td>0.0</td>\n      <td>0.0</td>\n      <td>689.0</td>\n      <td>0.0</td>\n      <td>0.0</td>\n      <td>0.0</td>\n      <td>0.0</td>\n      <td>1</td>\n    </tr>\n    <tr>\n      <th>1</th>\n      <td>2</td>\n      <td>120000.0</td>\n      <td>2</td>\n      <td>2</td>\n      <td>2</td>\n      <td>26</td>\n      <td>-1</td>\n      <td>2</td>\n      <td>0</td>\n      <td>0</td>\n      <td>...</td>\n      <td>3272.0</td>\n      <td>3455.0</td>\n      <td>3261.0</td>\n      <td>0.0</td>\n      <td>1000.0</td>\n      <td>1000.0</td>\n      <td>1000.0</td>\n      <td>0.0</td>\n      <td>2000.0</td>\n      <td>1</td>\n    </tr>\n    <tr>\n      <th>2</th>\n      <td>3</td>\n      <td>90000.0</td>\n      <td>2</td>\n      <td>2</td>\n      <td>2</td>\n      <td>34</td>\n      <td>0</td>\n      <td>0</td>\n      <td>0</td>\n      <td>0</td>\n      <td>...</td>\n      <td>14331.0</td>\n      <td>14948.0</td>\n      <td>15549.0</td>\n      <td>1518.0</td>\n      <td>1500.0</td>\n      <td>1000.0</td>\n      <td>1000.0</td>\n      <td>1000.0</td>\n      <td>5000.0</td>\n      <td>0</td>\n    </tr>\n    <tr>\n      <th>3</th>\n      <td>4</td>\n      <td>50000.0</td>\n      <td>2</td>\n      <td>2</td>\n      <td>1</td>\n      <td>37</td>\n      <td>0</td>\n      <td>0</td>\n      <td>0</td>\n      <td>0</td>\n      <td>...</td>\n      <td>28314.0</td>\n      <td>28959.0</td>\n      <td>29547.0</td>\n      <td>2000.0</td>\n      <td>2019.0</td>\n      <td>1200.0</td>\n      <td>1100.0</td>\n      <td>1069.0</td>\n      <td>1000.0</td>\n      <td>0</td>\n    </tr>\n    <tr>\n      <th>4</th>\n      <td>5</td>\n      <td>50000.0</td>\n      <td>1</td>\n      <td>2</td>\n      <td>1</td>\n      <td>57</td>\n      <td>-1</td>\n      <td>0</td>\n      <td>-1</td>\n      <td>0</td>\n      <td>...</td>\n      <td>20940.0</td>\n      <td>19146.0</td>\n      <td>19131.0</td>\n      <td>2000.0</td>\n      <td>36681.0</td>\n      <td>10000.0</td>\n      <td>9000.0</td>\n      <td>689.0</td>\n      <td>679.0</td>\n      <td>0</td>\n    </tr>\n  </tbody>\n</table>\n<p>5 rows × 25 columns</p>\n</div>",
            "text/plain": "   ID  LIMIT_BAL  SEX  EDUCATION  MARRIAGE  AGE  PAY_0  PAY_2  PAY_3  PAY_4  \\\n0   1    20000.0    2          2         1   24      2      2     -1     -1   \n1   2   120000.0    2          2         2   26     -1      2      0      0   \n2   3    90000.0    2          2         2   34      0      0      0      0   \n3   4    50000.0    2          2         1   37      0      0      0      0   \n4   5    50000.0    1          2         1   57     -1      0     -1      0   \n\n              ...              BILL_AMT4  BILL_AMT5  BILL_AMT6  PAY_AMT1  \\\n0             ...                    0.0        0.0        0.0       0.0   \n1             ...                 3272.0     3455.0     3261.0       0.0   \n2             ...                14331.0    14948.0    15549.0    1518.0   \n3             ...                28314.0    28959.0    29547.0    2000.0   \n4             ...                20940.0    19146.0    19131.0    2000.0   \n\n   PAY_AMT2  PAY_AMT3  PAY_AMT4  PAY_AMT5  PAY_AMT6  \\\n0     689.0       0.0       0.0       0.0       0.0   \n1    1000.0    1000.0    1000.0       0.0    2000.0   \n2    1500.0    1000.0    1000.0    1000.0    5000.0   \n3    2019.0    1200.0    1100.0    1069.0    1000.0   \n4   36681.0   10000.0    9000.0     689.0     679.0   \n\n   default.payment.next.month  \n0                           1  \n1                           1  \n2                           0  \n3                           0  \n4                           0  \n\n[5 rows x 25 columns]"
          },
          "metadata": {}
        }
      ]
    },
    {
      "metadata": {
        "trusted": true
      },
      "cell_type": "code",
      "source": "df.shape",
      "execution_count": 3,
      "outputs": [
        {
          "output_type": "execute_result",
          "execution_count": 3,
          "data": {
            "text/plain": "(30000, 25)"
          },
          "metadata": {}
        }
      ]
    },
    {
      "metadata": {
        "trusted": true
      },
      "cell_type": "code",
      "source": "df.dtypes",
      "execution_count": 4,
      "outputs": [
        {
          "output_type": "execute_result",
          "execution_count": 4,
          "data": {
            "text/plain": "ID                              int64\nLIMIT_BAL                     float64\nSEX                             int64\nEDUCATION                       int64\nMARRIAGE                        int64\nAGE                             int64\nPAY_0                           int64\nPAY_2                           int64\nPAY_3                           int64\nPAY_4                           int64\nPAY_5                           int64\nPAY_6                           int64\nBILL_AMT1                     float64\nBILL_AMT2                     float64\nBILL_AMT3                     float64\nBILL_AMT4                     float64\nBILL_AMT5                     float64\nBILL_AMT6                     float64\nPAY_AMT1                      float64\nPAY_AMT2                      float64\nPAY_AMT3                      float64\nPAY_AMT4                      float64\nPAY_AMT5                      float64\nPAY_AMT6                      float64\ndefault.payment.next.month      int64\ndtype: object"
          },
          "metadata": {}
        }
      ]
    },
    {
      "metadata": {
        "trusted": true
      },
      "cell_type": "code",
      "source": "df.isnull().sum()",
      "execution_count": 5,
      "outputs": [
        {
          "output_type": "execute_result",
          "execution_count": 5,
          "data": {
            "text/plain": "ID                            0\nLIMIT_BAL                     0\nSEX                           0\nEDUCATION                     0\nMARRIAGE                      0\nAGE                           0\nPAY_0                         0\nPAY_2                         0\nPAY_3                         0\nPAY_4                         0\nPAY_5                         0\nPAY_6                         0\nBILL_AMT1                     0\nBILL_AMT2                     0\nBILL_AMT3                     0\nBILL_AMT4                     0\nBILL_AMT5                     0\nBILL_AMT6                     0\nPAY_AMT1                      0\nPAY_AMT2                      0\nPAY_AMT3                      0\nPAY_AMT4                      0\nPAY_AMT5                      0\nPAY_AMT6                      0\ndefault.payment.next.month    0\ndtype: int64"
          },
          "metadata": {}
        }
      ]
    },
    {
      "metadata": {
        "trusted": true
      },
      "cell_type": "code",
      "source": "df=df.rename(columns = {'default.payment.next.month':'default'})",
      "execution_count": 6,
      "outputs": []
    },
    {
      "metadata": {
        "trusted": true
      },
      "cell_type": "code",
      "source": " df[\"EDUCATION\"].value_counts()",
      "execution_count": 7,
      "outputs": [
        {
          "output_type": "execute_result",
          "execution_count": 7,
          "data": {
            "text/plain": "2    14030\n1    10585\n3     4917\n5      280\n4      123\n6       51\n0       14\nName: EDUCATION, dtype: int64"
          },
          "metadata": {}
        }
      ]
    },
    {
      "metadata": {
        "trusted": true
      },
      "cell_type": "code",
      "source": "df[\"MARRIAGE\"].value_counts()",
      "execution_count": 8,
      "outputs": [
        {
          "output_type": "execute_result",
          "execution_count": 8,
          "data": {
            "text/plain": "2    15964\n1    13659\n3      323\n0       54\nName: MARRIAGE, dtype: int64"
          },
          "metadata": {}
        }
      ]
    },
    {
      "metadata": {
        "trusted": true
      },
      "cell_type": "code",
      "source": "df.query('EDUCATION!=0 and EDUCATION!=6 and EDUCATION!=5', inplace = True)",
      "execution_count": 9,
      "outputs": []
    },
    {
      "metadata": {
        "trusted": true
      },
      "cell_type": "code",
      "source": "df[\"EDUCATION\"].value_counts()",
      "execution_count": 10,
      "outputs": [
        {
          "output_type": "execute_result",
          "execution_count": 10,
          "data": {
            "text/plain": "2    14030\n1    10585\n3     4917\n4      123\nName: EDUCATION, dtype: int64"
          },
          "metadata": {}
        }
      ]
    },
    {
      "metadata": {
        "trusted": true
      },
      "cell_type": "code",
      "source": "df.query('MARRIAGE!=0', inplace = True)",
      "execution_count": 11,
      "outputs": []
    },
    {
      "metadata": {
        "trusted": true
      },
      "cell_type": "code",
      "source": "df[\"MARRIAGE\"].value_counts()",
      "execution_count": 12,
      "outputs": [
        {
          "output_type": "execute_result",
          "execution_count": 12,
          "data": {
            "text/plain": "2    15806\n1    13477\n3      318\nName: MARRIAGE, dtype: int64"
          },
          "metadata": {}
        }
      ]
    },
    {
      "metadata": {
        "trusted": true
      },
      "cell_type": "code",
      "source": "df[\"MARRIAGE\"].value_counts(normalize=True)",
      "execution_count": 13,
      "outputs": [
        {
          "output_type": "execute_result",
          "execution_count": 13,
          "data": {
            "text/plain": "2    0.533968\n1    0.455289\n3    0.010743\nName: MARRIAGE, dtype: float64"
          },
          "metadata": {}
        }
      ]
    },
    {
      "metadata": {
        "trusted": true
      },
      "cell_type": "code",
      "source": "df.describe()",
      "execution_count": 14,
      "outputs": [
        {
          "output_type": "execute_result",
          "execution_count": 14,
          "data": {
            "text/html": "<div>\n<style scoped>\n    .dataframe tbody tr th:only-of-type {\n        vertical-align: middle;\n    }\n\n    .dataframe tbody tr th {\n        vertical-align: top;\n    }\n\n    .dataframe thead th {\n        text-align: right;\n    }\n</style>\n<table border=\"1\" class=\"dataframe\">\n  <thead>\n    <tr style=\"text-align: right;\">\n      <th></th>\n      <th>ID</th>\n      <th>LIMIT_BAL</th>\n      <th>SEX</th>\n      <th>EDUCATION</th>\n      <th>MARRIAGE</th>\n      <th>AGE</th>\n      <th>PAY_0</th>\n      <th>PAY_2</th>\n      <th>PAY_3</th>\n      <th>PAY_4</th>\n      <th>...</th>\n      <th>BILL_AMT4</th>\n      <th>BILL_AMT5</th>\n      <th>BILL_AMT6</th>\n      <th>PAY_AMT1</th>\n      <th>PAY_AMT2</th>\n      <th>PAY_AMT3</th>\n      <th>PAY_AMT4</th>\n      <th>PAY_AMT5</th>\n      <th>PAY_AMT6</th>\n      <th>default</th>\n    </tr>\n  </thead>\n  <tbody>\n    <tr>\n      <th>count</th>\n      <td>29601.000000</td>\n      <td>29601.000000</td>\n      <td>29601.000000</td>\n      <td>29601.000000</td>\n      <td>29601.000000</td>\n      <td>29601.000000</td>\n      <td>29601.000000</td>\n      <td>29601.000000</td>\n      <td>29601.000000</td>\n      <td>29601.000000</td>\n      <td>...</td>\n      <td>29601.000000</td>\n      <td>29601.000000</td>\n      <td>29601.000000</td>\n      <td>29601.000000</td>\n      <td>2.960100e+04</td>\n      <td>29601.000000</td>\n      <td>29601.000000</td>\n      <td>29601.000000</td>\n      <td>29601.000000</td>\n      <td>29601.000000</td>\n    </tr>\n    <tr>\n      <th>mean</th>\n      <td>14971.758927</td>\n      <td>167550.544914</td>\n      <td>1.603189</td>\n      <td>1.815479</td>\n      <td>1.555454</td>\n      <td>35.464072</td>\n      <td>-0.014932</td>\n      <td>-0.131313</td>\n      <td>-0.163440</td>\n      <td>-0.218303</td>\n      <td>...</td>\n      <td>43122.554204</td>\n      <td>40235.545184</td>\n      <td>38858.449816</td>\n      <td>5649.560319</td>\n      <td>5.894788e+03</td>\n      <td>5198.415898</td>\n      <td>4828.659268</td>\n      <td>4795.032735</td>\n      <td>5181.326374</td>\n      <td>0.223134</td>\n    </tr>\n    <tr>\n      <th>std</th>\n      <td>8660.184430</td>\n      <td>129944.020953</td>\n      <td>0.489244</td>\n      <td>0.710399</td>\n      <td>0.518092</td>\n      <td>9.213243</td>\n      <td>1.124503</td>\n      <td>1.199642</td>\n      <td>1.199793</td>\n      <td>1.172220</td>\n      <td>...</td>\n      <td>64196.383913</td>\n      <td>60699.344884</td>\n      <td>59519.893043</td>\n      <td>16568.264941</td>\n      <td>2.308919e+04</td>\n      <td>17580.914806</td>\n      <td>15711.057992</td>\n      <td>15244.217154</td>\n      <td>17657.260739</td>\n      <td>0.416355</td>\n    </tr>\n    <tr>\n      <th>min</th>\n      <td>1.000000</td>\n      <td>10000.000000</td>\n      <td>1.000000</td>\n      <td>1.000000</td>\n      <td>1.000000</td>\n      <td>21.000000</td>\n      <td>-2.000000</td>\n      <td>-2.000000</td>\n      <td>-2.000000</td>\n      <td>-2.000000</td>\n      <td>...</td>\n      <td>-170000.000000</td>\n      <td>-81334.000000</td>\n      <td>-339603.000000</td>\n      <td>0.000000</td>\n      <td>0.000000e+00</td>\n      <td>0.000000</td>\n      <td>0.000000</td>\n      <td>0.000000</td>\n      <td>0.000000</td>\n      <td>0.000000</td>\n    </tr>\n    <tr>\n      <th>25%</th>\n      <td>7474.000000</td>\n      <td>50000.000000</td>\n      <td>1.000000</td>\n      <td>1.000000</td>\n      <td>1.000000</td>\n      <td>28.000000</td>\n      <td>-1.000000</td>\n      <td>-1.000000</td>\n      <td>-1.000000</td>\n      <td>-1.000000</td>\n      <td>...</td>\n      <td>2329.000000</td>\n      <td>1780.000000</td>\n      <td>1278.000000</td>\n      <td>1000.000000</td>\n      <td>8.250000e+02</td>\n      <td>390.000000</td>\n      <td>298.000000</td>\n      <td>259.000000</td>\n      <td>138.000000</td>\n      <td>0.000000</td>\n    </tr>\n    <tr>\n      <th>50%</th>\n      <td>14953.000000</td>\n      <td>140000.000000</td>\n      <td>2.000000</td>\n      <td>2.000000</td>\n      <td>2.000000</td>\n      <td>34.000000</td>\n      <td>0.000000</td>\n      <td>0.000000</td>\n      <td>0.000000</td>\n      <td>0.000000</td>\n      <td>...</td>\n      <td>19005.000000</td>\n      <td>18091.000000</td>\n      <td>17118.000000</td>\n      <td>2100.000000</td>\n      <td>2.007000e+03</td>\n      <td>1800.000000</td>\n      <td>1500.000000</td>\n      <td>1500.000000</td>\n      <td>1500.000000</td>\n      <td>0.000000</td>\n    </tr>\n    <tr>\n      <th>75%</th>\n      <td>22463.000000</td>\n      <td>240000.000000</td>\n      <td>2.000000</td>\n      <td>2.000000</td>\n      <td>2.000000</td>\n      <td>41.000000</td>\n      <td>0.000000</td>\n      <td>0.000000</td>\n      <td>0.000000</td>\n      <td>0.000000</td>\n      <td>...</td>\n      <td>54271.000000</td>\n      <td>50072.000000</td>\n      <td>49121.000000</td>\n      <td>5005.000000</td>\n      <td>5.000000e+03</td>\n      <td>4500.000000</td>\n      <td>4014.000000</td>\n      <td>4042.000000</td>\n      <td>4000.000000</td>\n      <td>0.000000</td>\n    </tr>\n    <tr>\n      <th>max</th>\n      <td>30000.000000</td>\n      <td>1000000.000000</td>\n      <td>2.000000</td>\n      <td>4.000000</td>\n      <td>3.000000</td>\n      <td>79.000000</td>\n      <td>8.000000</td>\n      <td>8.000000</td>\n      <td>8.000000</td>\n      <td>8.000000</td>\n      <td>...</td>\n      <td>891586.000000</td>\n      <td>927171.000000</td>\n      <td>961664.000000</td>\n      <td>873552.000000</td>\n      <td>1.684259e+06</td>\n      <td>896040.000000</td>\n      <td>621000.000000</td>\n      <td>426529.000000</td>\n      <td>528666.000000</td>\n      <td>1.000000</td>\n    </tr>\n  </tbody>\n</table>\n<p>8 rows × 25 columns</p>\n</div>",
            "text/plain": "                 ID       LIMIT_BAL           SEX     EDUCATION      MARRIAGE  \\\ncount  29601.000000    29601.000000  29601.000000  29601.000000  29601.000000   \nmean   14971.758927   167550.544914      1.603189      1.815479      1.555454   \nstd     8660.184430   129944.020953      0.489244      0.710399      0.518092   \nmin        1.000000    10000.000000      1.000000      1.000000      1.000000   \n25%     7474.000000    50000.000000      1.000000      1.000000      1.000000   \n50%    14953.000000   140000.000000      2.000000      2.000000      2.000000   \n75%    22463.000000   240000.000000      2.000000      2.000000      2.000000   \nmax    30000.000000  1000000.000000      2.000000      4.000000      3.000000   \n\n                AGE         PAY_0         PAY_2         PAY_3         PAY_4  \\\ncount  29601.000000  29601.000000  29601.000000  29601.000000  29601.000000   \nmean      35.464072     -0.014932     -0.131313     -0.163440     -0.218303   \nstd        9.213243      1.124503      1.199642      1.199793      1.172220   \nmin       21.000000     -2.000000     -2.000000     -2.000000     -2.000000   \n25%       28.000000     -1.000000     -1.000000     -1.000000     -1.000000   \n50%       34.000000      0.000000      0.000000      0.000000      0.000000   \n75%       41.000000      0.000000      0.000000      0.000000      0.000000   \nmax       79.000000      8.000000      8.000000      8.000000      8.000000   \n\n           ...           BILL_AMT4      BILL_AMT5      BILL_AMT6  \\\ncount      ...        29601.000000   29601.000000   29601.000000   \nmean       ...        43122.554204   40235.545184   38858.449816   \nstd        ...        64196.383913   60699.344884   59519.893043   \nmin        ...      -170000.000000  -81334.000000 -339603.000000   \n25%        ...         2329.000000    1780.000000    1278.000000   \n50%        ...        19005.000000   18091.000000   17118.000000   \n75%        ...        54271.000000   50072.000000   49121.000000   \nmax        ...       891586.000000  927171.000000  961664.000000   \n\n            PAY_AMT1      PAY_AMT2       PAY_AMT3       PAY_AMT4  \\\ncount   29601.000000  2.960100e+04   29601.000000   29601.000000   \nmean     5649.560319  5.894788e+03    5198.415898    4828.659268   \nstd     16568.264941  2.308919e+04   17580.914806   15711.057992   \nmin         0.000000  0.000000e+00       0.000000       0.000000   \n25%      1000.000000  8.250000e+02     390.000000     298.000000   \n50%      2100.000000  2.007000e+03    1800.000000    1500.000000   \n75%      5005.000000  5.000000e+03    4500.000000    4014.000000   \nmax    873552.000000  1.684259e+06  896040.000000  621000.000000   \n\n            PAY_AMT5       PAY_AMT6       default  \ncount   29601.000000   29601.000000  29601.000000  \nmean     4795.032735    5181.326374      0.223134  \nstd     15244.217154   17657.260739      0.416355  \nmin         0.000000       0.000000      0.000000  \n25%       259.000000     138.000000      0.000000  \n50%      1500.000000    1500.000000      0.000000  \n75%      4042.000000    4000.000000      0.000000  \nmax    426529.000000  528666.000000      1.000000  \n\n[8 rows x 25 columns]"
          },
          "metadata": {}
        }
      ]
    },
    {
      "metadata": {
        "trusted": true
      },
      "cell_type": "code",
      "source": "df.shape",
      "execution_count": 15,
      "outputs": [
        {
          "output_type": "execute_result",
          "execution_count": 15,
          "data": {
            "text/plain": "(29601, 25)"
          },
          "metadata": {}
        }
      ]
    },
    {
      "metadata": {
        "trusted": true
      },
      "cell_type": "code",
      "source": "from sklearn.preprocessing import OneHotEncoder\nohe = OneHotEncoder()\nonehot = ohe.fit_transform(df[[\"SEX\", \"MARRIAGE\",\"EDUCATION\"]])\nonehot = onehot.toarray()\nx = pd.DataFrame(onehot)",
      "execution_count": 16,
      "outputs": []
    },
    {
      "metadata": {
        "trusted": true
      },
      "cell_type": "code",
      "source": "x.columns = [\"male\",\"female\",\"married\",\"single\",\"others\",\"graduate school\",\"university\",\"high school\",\"other\"]\nx.head()",
      "execution_count": 17,
      "outputs": [
        {
          "output_type": "execute_result",
          "execution_count": 17,
          "data": {
            "text/html": "<div>\n<style scoped>\n    .dataframe tbody tr th:only-of-type {\n        vertical-align: middle;\n    }\n\n    .dataframe tbody tr th {\n        vertical-align: top;\n    }\n\n    .dataframe thead th {\n        text-align: right;\n    }\n</style>\n<table border=\"1\" class=\"dataframe\">\n  <thead>\n    <tr style=\"text-align: right;\">\n      <th></th>\n      <th>male</th>\n      <th>female</th>\n      <th>married</th>\n      <th>single</th>\n      <th>others</th>\n      <th>graduate school</th>\n      <th>university</th>\n      <th>high school</th>\n      <th>other</th>\n    </tr>\n  </thead>\n  <tbody>\n    <tr>\n      <th>0</th>\n      <td>0.0</td>\n      <td>1.0</td>\n      <td>1.0</td>\n      <td>0.0</td>\n      <td>0.0</td>\n      <td>0.0</td>\n      <td>1.0</td>\n      <td>0.0</td>\n      <td>0.0</td>\n    </tr>\n    <tr>\n      <th>1</th>\n      <td>0.0</td>\n      <td>1.0</td>\n      <td>0.0</td>\n      <td>1.0</td>\n      <td>0.0</td>\n      <td>0.0</td>\n      <td>1.0</td>\n      <td>0.0</td>\n      <td>0.0</td>\n    </tr>\n    <tr>\n      <th>2</th>\n      <td>0.0</td>\n      <td>1.0</td>\n      <td>0.0</td>\n      <td>1.0</td>\n      <td>0.0</td>\n      <td>0.0</td>\n      <td>1.0</td>\n      <td>0.0</td>\n      <td>0.0</td>\n    </tr>\n    <tr>\n      <th>3</th>\n      <td>0.0</td>\n      <td>1.0</td>\n      <td>1.0</td>\n      <td>0.0</td>\n      <td>0.0</td>\n      <td>0.0</td>\n      <td>1.0</td>\n      <td>0.0</td>\n      <td>0.0</td>\n    </tr>\n    <tr>\n      <th>4</th>\n      <td>1.0</td>\n      <td>0.0</td>\n      <td>1.0</td>\n      <td>0.0</td>\n      <td>0.0</td>\n      <td>0.0</td>\n      <td>1.0</td>\n      <td>0.0</td>\n      <td>0.0</td>\n    </tr>\n  </tbody>\n</table>\n</div>",
            "text/plain": "   male  female  married  single  others  graduate school  university  \\\n0   0.0     1.0      1.0     0.0     0.0              0.0         1.0   \n1   0.0     1.0      0.0     1.0     0.0              0.0         1.0   \n2   0.0     1.0      0.0     1.0     0.0              0.0         1.0   \n3   0.0     1.0      1.0     0.0     0.0              0.0         1.0   \n4   1.0     0.0      1.0     0.0     0.0              0.0         1.0   \n\n   high school  other  \n0          0.0    0.0  \n1          0.0    0.0  \n2          0.0    0.0  \n3          0.0    0.0  \n4          0.0    0.0  "
          },
          "metadata": {}
        }
      ]
    },
    {
      "metadata": {
        "trusted": true
      },
      "cell_type": "code",
      "source": "df= df.reset_index(drop=True)\ndf = pd.concat([df,x],1)\ndf = df.drop([\"SEX\",\"MARRIAGE\",\"EDUCATION\"],1)\ndf.head()\ndf.shape",
      "execution_count": 18,
      "outputs": [
        {
          "output_type": "execute_result",
          "execution_count": 18,
          "data": {
            "text/plain": "(29601, 31)"
          },
          "metadata": {}
        }
      ]
    },
    {
      "metadata": {
        "trusted": true
      },
      "cell_type": "code",
      "source": "df = df.drop([\"ID\"],1)\ndf.shape",
      "execution_count": 19,
      "outputs": [
        {
          "output_type": "execute_result",
          "execution_count": 19,
          "data": {
            "text/plain": "(29601, 30)"
          },
          "metadata": {}
        }
      ]
    },
    {
      "metadata": {
        "trusted": true
      },
      "cell_type": "code",
      "source": "y=df[\"default\"]\ndf = df.drop([\"default\"],1)",
      "execution_count": 20,
      "outputs": []
    },
    {
      "metadata": {
        "trusted": true
      },
      "cell_type": "code",
      "source": "numdf = df.drop([\"male\",\"female\",\"married\",\"single\",\"others\",\"PAY_0\",\"PAY_2\",\"PAY_3\",\"PAY_4\",\"PAY_5\",\"PAY_6\",\"graduate school\",\"university\",\"high school\",\"other\"],1)",
      "execution_count": 21,
      "outputs": []
    },
    {
      "metadata": {
        "trusted": true
      },
      "cell_type": "code",
      "source": "from sklearn.preprocessing import MinMaxScaler\nscaler=MinMaxScaler()\ncols=list(numdf) \nnumdf=scaler.fit_transform(numdf)\nnumdf=pd.DataFrame(numdf,columns=cols)\nnumdf.head()",
      "execution_count": 22,
      "outputs": [
        {
          "output_type": "execute_result",
          "execution_count": 22,
          "data": {
            "text/html": "<div>\n<style scoped>\n    .dataframe tbody tr th:only-of-type {\n        vertical-align: middle;\n    }\n\n    .dataframe tbody tr th {\n        vertical-align: top;\n    }\n\n    .dataframe thead th {\n        text-align: right;\n    }\n</style>\n<table border=\"1\" class=\"dataframe\">\n  <thead>\n    <tr style=\"text-align: right;\">\n      <th></th>\n      <th>LIMIT_BAL</th>\n      <th>AGE</th>\n      <th>BILL_AMT1</th>\n      <th>BILL_AMT2</th>\n      <th>BILL_AMT3</th>\n      <th>BILL_AMT4</th>\n      <th>BILL_AMT5</th>\n      <th>BILL_AMT6</th>\n      <th>PAY_AMT1</th>\n      <th>PAY_AMT2</th>\n      <th>PAY_AMT3</th>\n      <th>PAY_AMT4</th>\n      <th>PAY_AMT5</th>\n      <th>PAY_AMT6</th>\n    </tr>\n  </thead>\n  <tbody>\n    <tr>\n      <th>0</th>\n      <td>0.010101</td>\n      <td>0.051724</td>\n      <td>0.149982</td>\n      <td>0.069164</td>\n      <td>0.086723</td>\n      <td>0.160138</td>\n      <td>0.080648</td>\n      <td>0.260979</td>\n      <td>0.000000</td>\n      <td>0.000409</td>\n      <td>0.000000</td>\n      <td>0.000000</td>\n      <td>0.000000</td>\n      <td>0.000000</td>\n    </tr>\n    <tr>\n      <th>1</th>\n      <td>0.111111</td>\n      <td>0.086207</td>\n      <td>0.148892</td>\n      <td>0.067858</td>\n      <td>0.087817</td>\n      <td>0.163220</td>\n      <td>0.084074</td>\n      <td>0.263485</td>\n      <td>0.000000</td>\n      <td>0.000594</td>\n      <td>0.001116</td>\n      <td>0.001610</td>\n      <td>0.000000</td>\n      <td>0.003783</td>\n    </tr>\n    <tr>\n      <th>2</th>\n      <td>0.080808</td>\n      <td>0.224138</td>\n      <td>0.172392</td>\n      <td>0.079532</td>\n      <td>0.093789</td>\n      <td>0.173637</td>\n      <td>0.095470</td>\n      <td>0.272928</td>\n      <td>0.001738</td>\n      <td>0.000891</td>\n      <td>0.001116</td>\n      <td>0.001610</td>\n      <td>0.002345</td>\n      <td>0.009458</td>\n    </tr>\n    <tr>\n      <th>3</th>\n      <td>0.040404</td>\n      <td>0.275862</td>\n      <td>0.188100</td>\n      <td>0.111995</td>\n      <td>0.113407</td>\n      <td>0.186809</td>\n      <td>0.109363</td>\n      <td>0.283685</td>\n      <td>0.002290</td>\n      <td>0.001199</td>\n      <td>0.001339</td>\n      <td>0.001771</td>\n      <td>0.002506</td>\n      <td>0.001892</td>\n    </tr>\n    <tr>\n      <th>4</th>\n      <td>0.040404</td>\n      <td>0.620690</td>\n      <td>0.154144</td>\n      <td>0.071601</td>\n      <td>0.106020</td>\n      <td>0.179863</td>\n      <td>0.099633</td>\n      <td>0.275681</td>\n      <td>0.002290</td>\n      <td>0.021779</td>\n      <td>0.011160</td>\n      <td>0.014493</td>\n      <td>0.001615</td>\n      <td>0.001284</td>\n    </tr>\n  </tbody>\n</table>\n</div>",
            "text/plain": "   LIMIT_BAL       AGE  BILL_AMT1  BILL_AMT2  BILL_AMT3  BILL_AMT4  BILL_AMT5  \\\n0   0.010101  0.051724   0.149982   0.069164   0.086723   0.160138   0.080648   \n1   0.111111  0.086207   0.148892   0.067858   0.087817   0.163220   0.084074   \n2   0.080808  0.224138   0.172392   0.079532   0.093789   0.173637   0.095470   \n3   0.040404  0.275862   0.188100   0.111995   0.113407   0.186809   0.109363   \n4   0.040404  0.620690   0.154144   0.071601   0.106020   0.179863   0.099633   \n\n   BILL_AMT6  PAY_AMT1  PAY_AMT2  PAY_AMT3  PAY_AMT4  PAY_AMT5  PAY_AMT6  \n0   0.260979  0.000000  0.000409  0.000000  0.000000  0.000000  0.000000  \n1   0.263485  0.000000  0.000594  0.001116  0.001610  0.000000  0.003783  \n2   0.272928  0.001738  0.000891  0.001116  0.001610  0.002345  0.009458  \n3   0.283685  0.002290  0.001199  0.001339  0.001771  0.002506  0.001892  \n4   0.275681  0.002290  0.021779  0.011160  0.014493  0.001615  0.001284  "
          },
          "metadata": {}
        }
      ]
    },
    {
      "metadata": {
        "trusted": true
      },
      "cell_type": "code",
      "source": "df1 = df[[\"male\",\"female\",\"married\",\"single\",\"others\",\"PAY_0\",\"PAY_2\",\"PAY_3\",\"PAY_4\",\"PAY_5\",\"PAY_6\",\"graduate school\",\"university\",\"high school\",\"other\"]]",
      "execution_count": 23,
      "outputs": []
    },
    {
      "metadata": {
        "trusted": true
      },
      "cell_type": "code",
      "source": "X1 = pd.concat([numdf,df1],1)",
      "execution_count": 24,
      "outputs": []
    },
    {
      "metadata": {
        "trusted": true
      },
      "cell_type": "code",
      "source": "from sklearn.model_selection import train_test_split as tts\nX1_train,X1_test,y_train,y_test=tts(X1,y,test_size=0.3,random_state=42)",
      "execution_count": 25,
      "outputs": []
    },
    {
      "metadata": {
        "trusted": true
      },
      "cell_type": "code",
      "source": "X1_test.shape",
      "execution_count": 26,
      "outputs": [
        {
          "output_type": "execute_result",
          "execution_count": 26,
          "data": {
            "text/plain": "(8881, 29)"
          },
          "metadata": {}
        }
      ]
    },
    {
      "metadata": {
        "trusted": true
      },
      "cell_type": "code",
      "source": "\nimport keras\nfrom keras.models import Sequential\nfrom keras.layers import Dense",
      "execution_count": 27,
      "outputs": [
        {
          "output_type": "stream",
          "text": "Using TensorFlow backend.\n",
          "name": "stderr"
        }
      ]
    },
    {
      "metadata": {
        "trusted": true
      },
      "cell_type": "code",
      "source": "# Initialising the ANN\nclassifier = Sequential()\n\n# Adding the input layer and the first hidden layer\nclassifier.add(Dense(output_dim = 15,init= 'uniform',activation = 'relu', input_dim = 29))\n\n# Adding the second hidden layer\nclassifier.add(Dense(output_dim = 15,init= 'uniform', activation = 'relu'))\n\n# Adding the output layer\nclassifier.add(Dense(output_dim = 1,init= 'uniform', activation = 'sigmoid'))",
      "execution_count": 28,
      "outputs": []
    },
    {
      "metadata": {
        "trusted": true
      },
      "cell_type": "code",
      "source": "# Compiling the ANN\nclassifier.compile(optimizer = 'adam', loss = 'binary_crossentropy', metrics = ['accuracy'])\n\n# Fitting the ANN to the Training set\n\n\nclassifier.fit(X1_train, y_train, batch_size = 10, epochs = 20)",
      "execution_count": 29,
      "outputs": [
        {
          "output_type": "stream",
          "text": "Epoch 1/20\n20720/20720 [==============================] - 34s 2ms/step - loss: 0.4637 - acc: 0.8114\nEpoch 2/20\n20720/20720 [==============================] - 29s 1ms/step - loss: 0.4463 - acc: 0.8190\nEpoch 3/20\n20720/20720 [==============================] - 27s 1ms/step - loss: 0.4435 - acc: 0.8204\nEpoch 4/20\n20720/20720 [==============================] - 26s 1ms/step - loss: 0.4419 - acc: 0.8204\nEpoch 5/20\n20720/20720 [==============================] - 26s 1ms/step - loss: 0.4394 - acc: 0.8216\nEpoch 6/20\n20720/20720 [==============================] - 25s 1ms/step - loss: 0.4377 - acc: 0.8218: 0s - loss: 0.43\nEpoch 7/20\n20720/20720 [==============================] - 27s 1ms/step - loss: 0.4362 - acc: 0.8217\nEpoch 8/20\n20720/20720 [==============================] - 26s 1ms/step - loss: 0.4351 - acc: 0.8218\nEpoch 9/20\n20720/20720 [==============================] - 27s 1ms/step - loss: 0.4349 - acc: 0.8217\nEpoch 10/20\n20720/20720 [==============================] - 27s 1ms/step - loss: 0.4340 - acc: 0.8222: 1s - lo\nEpoch 11/20\n20720/20720 [==============================] - 26s 1ms/step - loss: 0.4331 - acc: 0.8229\nEpoch 12/20\n20720/20720 [==============================] - 27s 1ms/step - loss: 0.4335 - acc: 0.8228\nEpoch 13/20\n20720/20720 [==============================] - 27s 1ms/step - loss: 0.4327 - acc: 0.8226\nEpoch 14/20\n20720/20720 [==============================] - 28s 1ms/step - loss: 0.4327 - acc: 0.8221\nEpoch 15/20\n20720/20720 [==============================] - 27s 1ms/step - loss: 0.4322 - acc: 0.8225\nEpoch 16/20\n20720/20720 [==============================] - 26s 1ms/step - loss: 0.4319 - acc: 0.8225\nEpoch 17/20\n20720/20720 [==============================] - 27s 1ms/step - loss: 0.4315 - acc: 0.8224\nEpoch 18/20\n20720/20720 [==============================] - 26s 1ms/step - loss: 0.4312 - acc: 0.8227\nEpoch 19/20\n20720/20720 [==============================] - 27s 1ms/step - loss: 0.4310 - acc: 0.8233\nEpoch 20/20\n20720/20720 [==============================] - 26s 1ms/step - loss: 0.4312 - acc: 0.8220\n",
          "name": "stdout"
        },
        {
          "output_type": "execute_result",
          "execution_count": 29,
          "data": {
            "text/plain": "<keras.callbacks.History at 0x7f5424095f28>"
          },
          "metadata": {}
        }
      ]
    },
    {
      "metadata": {
        "trusted": true
      },
      "cell_type": "code",
      "source": "y_pred = classifier.predict(X1_test)",
      "execution_count": 30,
      "outputs": []
    },
    {
      "metadata": {
        "trusted": true
      },
      "cell_type": "code",
      "source": "y_pred = (y_pred > 0.5)",
      "execution_count": 32,
      "outputs": []
    },
    {
      "metadata": {
        "trusted": true
      },
      "cell_type": "code",
      "source": "\n# Making the Confusion Matrix\nfrom sklearn.metrics import confusion_matrix\ncm = confusion_matrix(y_test, y_pred)",
      "execution_count": 33,
      "outputs": []
    },
    {
      "metadata": {
        "trusted": true
      },
      "cell_type": "code",
      "source": "(6549+713)/(6549+713+1308+311)",
      "execution_count": 34,
      "outputs": [
        {
          "output_type": "execute_result",
          "execution_count": 34,
          "data": {
            "text/plain": "0.8177007093795744"
          },
          "metadata": {}
        }
      ]
    },
    {
      "metadata": {
        "trusted": true
      },
      "cell_type": "code",
      "source": "",
      "execution_count": null,
      "outputs": []
    }
  ],
  "metadata": {
    "kernelspec": {
      "name": "python36",
      "display_name": "Python 3.6",
      "language": "python"
    },
    "language_info": {
      "mimetype": "text/x-python",
      "nbconvert_exporter": "python",
      "name": "python",
      "pygments_lexer": "ipython3",
      "version": "3.6.6",
      "file_extension": ".py",
      "codemirror_mode": {
        "version": 3,
        "name": "ipython"
      }
    }
  },
  "nbformat": 4,
  "nbformat_minor": 2
}