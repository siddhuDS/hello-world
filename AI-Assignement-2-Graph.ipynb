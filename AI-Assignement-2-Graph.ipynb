{
 "cells": [
  {
   "cell_type": "code",
   "execution_count": 1,
   "metadata": {},
   "outputs": [],
   "source": [
    "import pandas as pd\n",
    "import numpy as np"
   ]
  },
  {
   "cell_type": "code",
   "execution_count": 2,
   "metadata": {},
   "outputs": [],
   "source": [
    "graph = { \"3\" : set([\"51\",\"6\",\"9\"]),\n",
    "          \"6\" : set([\"51\", \"3\",\"57\",\"8\"]),\n",
    "          \"51\" : set([\"3\", \"6\"]),\n",
    "          \"9\" : set([\"3\",\"8\"]),\n",
    "          \"8\" : set([\"9\", \"6\",\"1\",\"42\"]),\n",
    "          \"42\" : set([\"8\"]),\n",
    "          \"1\":set([\"8\",\"14\"]),\n",
    "           \"14\":set([\"1\",\"97\"]),\n",
    "         \"97\" : set([\"14\"]),\n",
    "          \"57\" :set([\"6\"])\n",
    "        }"
   ]
  },
  {
   "cell_type": "code",
   "execution_count": 3,
   "metadata": {},
   "outputs": [],
   "source": [
    "keys=sorted(graph.keys())\n"
   ]
  },
  {
   "cell_type": "code",
   "execution_count": 7,
   "metadata": {},
   "outputs": [],
   "source": [
    "size=len(keys)\n",
    "\n",
    "new = [ [0]*size for i in range(size) ]\n",
    "\n",
    "for a,b in [(keys.index(a), keys.index(b)) for a, row in graph.items() for b in row]:\n",
    "     new[a][b] = 2 if (a==b) else 1"
   ]
  },
  {
   "cell_type": "code",
   "execution_count": 8,
   "metadata": {},
   "outputs": [
    {
     "data": {
      "text/plain": [
       "[[0, 1, 0, 0, 0, 0, 0, 1, 0, 0],\n",
       " [1, 0, 0, 0, 0, 0, 0, 0, 0, 1],\n",
       " [0, 0, 0, 0, 1, 0, 1, 0, 1, 0],\n",
       " [0, 0, 0, 0, 0, 0, 0, 1, 0, 0],\n",
       " [0, 0, 1, 0, 0, 0, 1, 0, 0, 0],\n",
       " [0, 0, 0, 0, 0, 0, 1, 0, 0, 0],\n",
       " [0, 0, 1, 0, 1, 1, 0, 1, 0, 0],\n",
       " [1, 0, 0, 1, 0, 0, 1, 0, 1, 0],\n",
       " [0, 0, 1, 0, 0, 0, 0, 1, 0, 0],\n",
       " [0, 1, 0, 0, 0, 0, 0, 0, 0, 0]]"
      ]
     },
     "execution_count": 8,
     "metadata": {},
     "output_type": "execute_result"
    }
   ],
   "source": [
    "new"
   ]
  },
  {
   "cell_type": "code",
   "execution_count": 9,
   "metadata": {},
   "outputs": [
    {
     "data": {
      "text/plain": [
       "1"
      ]
     },
     "execution_count": 9,
     "metadata": {},
     "output_type": "execute_result"
    }
   ],
   "source": [
    "new[0][1]"
   ]
  },
  {
   "cell_type": "code",
   "execution_count": 10,
   "metadata": {},
   "outputs": [
    {
     "name": "stdout",
     "output_type": "stream",
     "text": [
      "enter values to be searched : 6\n"
     ]
    }
   ],
   "source": [
    "value = int(input(\"enter values to be searched : \"))"
   ]
  },
  {
   "cell_type": "code",
   "execution_count": 11,
   "metadata": {},
   "outputs": [],
   "source": [
    "for i in range(len(new)):\n",
    "    for j in range(len(new)):\n",
    "        if(new[i][j]==1):\n",
    "            new[i][j] = [int(keys[i]),int(keys[j])]"
   ]
  },
  {
   "cell_type": "code",
   "execution_count": 12,
   "metadata": {},
   "outputs": [
    {
     "data": {
      "text/plain": [
       "[[0, [1, 14], 0, 0, 0, 0, 0, [1, 8], 0, 0],\n",
       " [[14, 1], 0, 0, 0, 0, 0, 0, 0, 0, [14, 97]],\n",
       " [0, 0, 0, 0, [3, 51], 0, [3, 6], 0, [3, 9], 0],\n",
       " [0, 0, 0, 0, 0, 0, 0, [42, 8], 0, 0],\n",
       " [0, 0, [51, 3], 0, 0, 0, [51, 6], 0, 0, 0],\n",
       " [0, 0, 0, 0, 0, 0, [57, 6], 0, 0, 0],\n",
       " [0, 0, [6, 3], 0, [6, 51], [6, 57], 0, [6, 8], 0, 0],\n",
       " [[8, 1], 0, 0, [8, 42], 0, 0, [8, 6], 0, [8, 9], 0],\n",
       " [0, 0, [9, 3], 0, 0, 0, 0, [9, 8], 0, 0],\n",
       " [0, [97, 14], 0, 0, 0, 0, 0, 0, 0, 0]]"
      ]
     },
     "execution_count": 12,
     "metadata": {},
     "output_type": "execute_result"
    }
   ],
   "source": [
    "new"
   ]
  },
  {
   "cell_type": "code",
   "execution_count": 14,
   "metadata": {},
   "outputs": [
    {
     "name": "stdout",
     "output_type": "stream",
     "text": [
      "Item Found successfully\n"
     ]
    }
   ],
   "source": [
    "f=0\n",
    "for i in range(len(new)):\n",
    "    for j in range(len(new)):\n",
    "        if(new[i][j]!=0):\n",
    "            if value in new[i][j]:\n",
    "                f=1\n",
    "                break\n",
    "    if(f==1):\n",
    "        break\n",
    "if(f==1):\n",
    "    print(\"Item Found successfully\")\n",
    "else:\n",
    "    print(\"Item Not Present\")"
   ]
  },
  {
   "cell_type": "code",
   "execution_count": 16,
   "metadata": {},
   "outputs": [],
   "source": [
    "\n",
    "def dfs(graph, start,value):\n",
    "    f=0\n",
    "    visited, stack = set(), [start]\n",
    "    while stack:\n",
    "        vertex = stack.pop()\n",
    "        if vertex not in visited:\n",
    "            if vertex == value:\n",
    "                f=1\n",
    "                break\n",
    "            visited.add(vertex)\n",
    "            stack.extend(graph[vertex] - visited)\n",
    "    if f==1:\n",
    "        return True\n",
    "    else:\n",
    "        return False"
   ]
  },
  {
   "cell_type": "code",
   "execution_count": 19,
   "metadata": {},
   "outputs": [
    {
     "data": {
      "text/plain": [
       "False"
      ]
     },
     "execution_count": 19,
     "metadata": {},
     "output_type": "execute_result"
    }
   ],
   "source": [
    "dfs(graph,'3','19')"
   ]
  },
  {
   "cell_type": "code",
   "execution_count": 20,
   "metadata": {},
   "outputs": [],
   "source": [
    "\n",
    "def bfs(graph, start,value):\n",
    "    f=0\n",
    "    visited, queue = set(), [start]\n",
    "    while queue:\n",
    "        vertex = queue.pop(0)\n",
    "        if vertex not in visited:\n",
    "            if vertex == value:\n",
    "                f=1\n",
    "                break\n",
    "            visited.add(vertex)\n",
    "            queue.extend(graph[vertex] - visited)\n",
    "    if f==1:\n",
    "        return True\n",
    "    else:\n",
    "        return False"
   ]
  },
  {
   "cell_type": "code",
   "execution_count": 21,
   "metadata": {},
   "outputs": [
    {
     "data": {
      "text/plain": [
       "False"
      ]
     },
     "execution_count": 21,
     "metadata": {},
     "output_type": "execute_result"
    }
   ],
   "source": [
    "bfs(graph, '3','44')\n"
   ]
  },
  {
   "cell_type": "code",
   "execution_count": null,
   "metadata": {},
   "outputs": [],
   "source": []
  },
  {
   "cell_type": "code",
   "execution_count": null,
   "metadata": {},
   "outputs": [],
   "source": []
  },
  {
   "cell_type": "code",
   "execution_count": null,
   "metadata": {},
   "outputs": [],
   "source": []
  },
  {
   "cell_type": "code",
   "execution_count": null,
   "metadata": {},
   "outputs": [],
   "source": []
  }
 ],
 "metadata": {
  "kernelspec": {
   "display_name": "Python 3",
   "language": "python",
   "name": "python3"
  },
  "language_info": {
   "codemirror_mode": {
    "name": "ipython",
    "version": 3
   },
   "file_extension": ".py",
   "mimetype": "text/x-python",
   "name": "python",
   "nbconvert_exporter": "python",
   "pygments_lexer": "ipython3",
   "version": "3.7.0"
  }
 },
 "nbformat": 4,
 "nbformat_minor": 2
}
